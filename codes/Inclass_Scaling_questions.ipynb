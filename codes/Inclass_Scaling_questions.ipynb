{
  "cells": [
    {
      "cell_type": "markdown",
      "metadata": {
        "id": "puIo_wYmeFyZ"
      },
      "source": []
    },
    {
      "cell_type": "markdown",
      "metadata": {
        "id": "BnTergz9eFyg"
      },
      "source": [
        "### Import the Libraries and load the dataset"
      ]
    },
    {
      "cell_type": "code",
      "execution_count": null,
      "metadata": {
        "id": "2hASzCafeFyg"
      },
      "outputs": [],
      "source": [
        "import pandas as pd\n",
        "import numpy as np\n",
        "import seaborn as sb\n",
        "import matplotlib.pyplot as plt\n",
        "import warnings\n",
        "warnings.filterwarnings(\"ignore\")"
      ]
    },
    {
      "cell_type": "code",
      "execution_count": null,
      "metadata": {
        "colab": {
          "base_uri": "https://localhost:8080/",
          "height": 218
        },
        "id": "78wGRJZZeFyi",
        "outputId": "167d688d-2e5a-4155-96d7-5f649c27e9c7"
      },
      "outputs": [
        {
          "data": {
            "text/html": [
              "<div>\n",
              "<style scoped>\n",
              "    .dataframe tbody tr th:only-of-type {\n",
              "        vertical-align: middle;\n",
              "    }\n",
              "\n",
              "    .dataframe tbody tr th {\n",
              "        vertical-align: top;\n",
              "    }\n",
              "\n",
              "    .dataframe thead th {\n",
              "        text-align: right;\n",
              "    }\n",
              "</style>\n",
              "<table border=\"1\" class=\"dataframe\">\n",
              "  <thead>\n",
              "    <tr style=\"text-align: right;\">\n",
              "      <th></th>\n",
              "      <th>Area</th>\n",
              "      <th>diameter</th>\n",
              "      <th>perimeter</th>\n",
              "      <th>circularity</th>\n",
              "      <th>homogeneity</th>\n",
              "      <th>compactness</th>\n",
              "      <th>homogeneity.1</th>\n",
              "      <th>3d bounding box dim rate</th>\n",
              "      <th>compactness2</th>\n",
              "      <th>clbp mean</th>\n",
              "      <th>euler point</th>\n",
              "      <th>x-y projection compactness</th>\n",
              "      <th>min value inside</th>\n",
              "      <th>DC constant</th>\n",
              "      <th>energy</th>\n",
              "      <th>skew inside</th>\n",
              "      <th>kurtosis inside</th>\n",
              "      <th>moment 2</th>\n",
              "      <th>MIP</th>\n",
              "      <th>moment 5</th>\n",
              "      <th>moment 6</th>\n",
              "      <th>moment 7</th>\n",
              "      <th>x-y plane bb rate</th>\n",
              "      <th>T</th>\n",
              "    </tr>\n",
              "  </thead>\n",
              "  <tbody>\n",
              "    <tr>\n",
              "      <th>0</th>\n",
              "      <td>61.8750</td>\n",
              "      <td>12.0</td>\n",
              "      <td>32.077140</td>\n",
              "      <td>0.755673</td>\n",
              "      <td>449.71875</td>\n",
              "      <td>1.345392</td>\n",
              "      <td>1.0</td>\n",
              "      <td>0.758333</td>\n",
              "      <td>2.339759</td>\n",
              "      <td>14.65</td>\n",
              "      <td>2.0</td>\n",
              "      <td>0.772116</td>\n",
              "      <td>19.746809</td>\n",
              "      <td>1.001611</td>\n",
              "      <td>10.149219</td>\n",
              "      <td>0.462735</td>\n",
              "      <td>3.076589</td>\n",
              "      <td>238.76445</td>\n",
              "      <td>276.318695</td>\n",
              "      <td>65971.18750</td>\n",
              "      <td>15752872.0</td>\n",
              "      <td>368197.28130</td>\n",
              "      <td>19.111872</td>\n",
              "      <td>NON-CANCEROUS</td>\n",
              "    </tr>\n",
              "    <tr>\n",
              "      <th>1</th>\n",
              "      <td>14.0625</td>\n",
              "      <td>7.5</td>\n",
              "      <td>16.749615</td>\n",
              "      <td>0.629887</td>\n",
              "      <td>56.30625</td>\n",
              "      <td>1.615692</td>\n",
              "      <td>0.9</td>\n",
              "      <td>0.693333</td>\n",
              "      <td>2.105107</td>\n",
              "      <td>7.85</td>\n",
              "      <td>3.0</td>\n",
              "      <td>0.514698</td>\n",
              "      <td>19.778557</td>\n",
              "      <td>1.002350</td>\n",
              "      <td>5.401159</td>\n",
              "      <td>0.182834</td>\n",
              "      <td>1.547886</td>\n",
              "      <td>313.56543</td>\n",
              "      <td>318.816223</td>\n",
              "      <td>99969.98438</td>\n",
              "      <td>31347990.0</td>\n",
              "      <td>13273.56641</td>\n",
              "      <td>19.048378</td>\n",
              "      <td>NON-CANCEROUS</td>\n",
              "    </tr>\n",
              "  </tbody>\n",
              "</table>\n",
              "</div>"
            ],
            "text/plain": [
              "      Area  diameter  perimeter  ...      moment 7  x-y plane bb rate              T\n",
              "0  61.8750      12.0  32.077140  ...  368197.28130          19.111872  NON-CANCEROUS\n",
              "1  14.0625       7.5  16.749615  ...   13273.56641          19.048378  NON-CANCEROUS\n",
              "\n",
              "[2 rows x 24 columns]"
            ]
          },
          "execution_count": 25,
          "metadata": {},
          "output_type": "execute_result"
        }
      ],
      "source": [
        "#Hope all the participants are treated the missing values in the HR_data used in the last inclass.\n",
        "#The imputed version of the data have to be used for this exercise.\n",
        "hrdata=pd.read_csv('https://raw.githubusercontent.com/tkseneee/Dataset/dd7313e0c6487acd9ed7cd32b786782c7a1d3885/HR_data.csv')\n",
        "data.head(2)"
      ]
    },
    {
      "cell_type": "markdown",
      "metadata": {
        "id": "O21Ib50xeFyk"
      },
      "source": [
        "### 1. Check if there is any missing value.\n",
        "[Sklearn scaling functions will throw an error for the data with missing values]"
      ]
    },
    {
      "cell_type": "code",
      "execution_count": null,
      "metadata": {
        "colab": {
          "base_uri": "https://localhost:8080/"
        },
        "id": "PNJaWQmSeFym",
        "outputId": "25d00ce0-72a8-4f30-d7ab-8599bbbbaebb"
      },
      "outputs": [
        {
          "data": {
            "text/plain": [
              "Area                          0\n",
              "diameter                      0\n",
              "perimeter                     0\n",
              "circularity                   0\n",
              "homogeneity                   0\n",
              "compactness                   0\n",
              "homogeneity.1                 0\n",
              "3d bounding box dim rate      0\n",
              "compactness2                  0\n",
              "clbp mean                     0\n",
              "euler point                   0\n",
              "x-y projection compactness    0\n",
              "min value inside              0\n",
              "DC constant                   0\n",
              "energy                        0\n",
              "skew inside                   0\n",
              "kurtosis inside               0\n",
              "moment 2                      0\n",
              "MIP                           0\n",
              "moment 5                      0\n",
              "moment 6                      0\n",
              "moment 7                      0\n",
              "x-y plane bb rate             0\n",
              "T                             0\n",
              "dtype: int64"
            ]
          },
          "execution_count": 3,
          "metadata": {},
          "output_type": "execute_result"
        }
      ],
      "source": []
    },
    {
      "cell_type": "markdown",
      "metadata": {
        "id": "78MYQiw9eFyn"
      },
      "source": [
        "### 2. Keep only the Numeric values in one variable\n",
        "[Scaling can be performed only on Numeric data]"
      ]
    },
    {
      "cell_type": "code",
      "execution_count": null,
      "metadata": {
        "colab": {
          "base_uri": "https://localhost:8080/",
          "height": 184
        },
        "id": "a3I_TPUtjaeB",
        "outputId": "c95bb7df-ecaf-47e7-ca43-4e3cbaf7e5dc"
      },
      "outputs": [
        {
          "data": {
            "text/html": [
              "<div>\n",
              "<style scoped>\n",
              "    .dataframe tbody tr th:only-of-type {\n",
              "        vertical-align: middle;\n",
              "    }\n",
              "\n",
              "    .dataframe tbody tr th {\n",
              "        vertical-align: top;\n",
              "    }\n",
              "\n",
              "    .dataframe thead th {\n",
              "        text-align: right;\n",
              "    }\n",
              "</style>\n",
              "<table border=\"1\" class=\"dataframe\">\n",
              "  <thead>\n",
              "    <tr style=\"text-align: right;\">\n",
              "      <th></th>\n",
              "      <th>Area</th>\n",
              "      <th>diameter</th>\n",
              "      <th>perimeter</th>\n",
              "      <th>circularity</th>\n",
              "      <th>homogeneity</th>\n",
              "      <th>compactness</th>\n",
              "      <th>homogeneity.1</th>\n",
              "      <th>3d bounding box dim rate</th>\n",
              "      <th>compactness2</th>\n",
              "      <th>clbp mean</th>\n",
              "      <th>euler point</th>\n",
              "      <th>x-y projection compactness</th>\n",
              "      <th>min value inside</th>\n",
              "      <th>DC constant</th>\n",
              "      <th>energy</th>\n",
              "      <th>skew inside</th>\n",
              "      <th>kurtosis inside</th>\n",
              "      <th>moment 2</th>\n",
              "      <th>MIP</th>\n",
              "      <th>moment 5</th>\n",
              "      <th>moment 6</th>\n",
              "      <th>moment 7</th>\n",
              "      <th>x-y plane bb rate</th>\n",
              "    </tr>\n",
              "  </thead>\n",
              "  <tbody>\n",
              "    <tr>\n",
              "      <th>0</th>\n",
              "      <td>61.8750</td>\n",
              "      <td>12.0</td>\n",
              "      <td>32.077140</td>\n",
              "      <td>0.755673</td>\n",
              "      <td>449.71875</td>\n",
              "      <td>1.345392</td>\n",
              "      <td>1.0</td>\n",
              "      <td>0.758333</td>\n",
              "      <td>2.339759</td>\n",
              "      <td>14.65</td>\n",
              "      <td>2.0</td>\n",
              "      <td>0.772116</td>\n",
              "      <td>19.746809</td>\n",
              "      <td>1.001611</td>\n",
              "      <td>10.149219</td>\n",
              "      <td>0.462735</td>\n",
              "      <td>3.076589</td>\n",
              "      <td>238.76445</td>\n",
              "      <td>276.318695</td>\n",
              "      <td>65971.18750</td>\n",
              "      <td>15752872.0</td>\n",
              "      <td>368197.28130</td>\n",
              "      <td>19.111872</td>\n",
              "    </tr>\n",
              "    <tr>\n",
              "      <th>1</th>\n",
              "      <td>14.0625</td>\n",
              "      <td>7.5</td>\n",
              "      <td>16.749615</td>\n",
              "      <td>0.629887</td>\n",
              "      <td>56.30625</td>\n",
              "      <td>1.615692</td>\n",
              "      <td>0.9</td>\n",
              "      <td>0.693333</td>\n",
              "      <td>2.105107</td>\n",
              "      <td>7.85</td>\n",
              "      <td>3.0</td>\n",
              "      <td>0.514698</td>\n",
              "      <td>19.778557</td>\n",
              "      <td>1.002350</td>\n",
              "      <td>5.401159</td>\n",
              "      <td>0.182834</td>\n",
              "      <td>1.547886</td>\n",
              "      <td>313.56543</td>\n",
              "      <td>318.816223</td>\n",
              "      <td>99969.98438</td>\n",
              "      <td>31347990.0</td>\n",
              "      <td>13273.56641</td>\n",
              "      <td>19.048378</td>\n",
              "    </tr>\n",
              "  </tbody>\n",
              "</table>\n",
              "</div>"
            ],
            "text/plain": [
              "      Area  diameter  perimeter  ...    moment 6      moment 7  x-y plane bb rate\n",
              "0  61.8750      12.0  32.077140  ...  15752872.0  368197.28130          19.111872\n",
              "1  14.0625       7.5  16.749615  ...  31347990.0   13273.56641          19.048378\n",
              "\n",
              "[2 rows x 23 columns]"
            ]
          },
          "execution_count": 26,
          "metadata": {},
          "output_type": "execute_result"
        }
      ],
      "source": []
    },
    {
      "cell_type": "markdown",
      "metadata": {
        "id": "PSba3sZweFyr"
      },
      "source": [
        "### 3. Compute the Range and comment about the need of scaling for this dataset"
      ]
    },
    {
      "cell_type": "code",
      "execution_count": null,
      "metadata": {
        "colab": {
          "base_uri": "https://localhost:8080/"
        },
        "id": "UKrmuyPYjrHh",
        "outputId": "6b468d9c-ca50-4eb8-ddbc-05a1df3cee79"
      },
      "outputs": [
        {
          "data": {
            "text/plain": [
              "Area                               160.99\n",
              "diameter                            28.41\n",
              "perimeter                           65.18\n",
              "circularity                          0.93\n",
              "homogeneity                       1909.00\n",
              "compactness                          1.59\n",
              "homogeneity.1                        0.90\n",
              "3d bounding box dim rate             0.86\n",
              "compactness2                         9.36\n",
              "clbp mean                           38.36\n",
              "euler point                         11.00\n",
              "x-y projection compactness           1.01\n",
              "min value inside                    27.68\n",
              "DC constant                          0.72\n",
              "energy                               9.63\n",
              "skew inside                          2.24\n",
              "kurtosis inside                      3.68\n",
              "moment 2                           405.84\n",
              "MIP                                336.00\n",
              "moment 5                        116969.21\n",
              "moment 6                      53596348.37\n",
              "moment 7                       1573427.04\n",
              "x-y plane bb rate                   25.52\n",
              "dtype: float64"
            ]
          },
          "execution_count": 28,
          "metadata": {},
          "output_type": "execute_result"
        }
      ],
      "source": []
    },
    {
      "cell_type": "markdown",
      "metadata": {
        "id": "9QkDzpMOeFyu"
      },
      "source": [
        "### 4.  Perform standard scaling on the 'Area' column without using sklearn function"
      ]
    },
    {
      "cell_type": "markdown",
      "metadata": {
        "id": "HrQJFn6_kLIs"
      },
      "source": [
        "## x' = (x- MEAN ) / STD"
      ]
    },
    {
      "cell_type": "code",
      "execution_count": null,
      "metadata": {
        "colab": {
          "base_uri": "https://localhost:8080/"
        },
        "id": "GDthL9SukMSe",
        "outputId": "980ba05b-af70-48af-d6c9-d80a2be5def4"
      },
      "outputs": [
        {
          "name": "stdout",
          "output_type": "stream",
          "text": [
            "0      1.939259\n",
            "1     -0.256554\n",
            "2     -0.359886\n",
            "3      0.027610\n",
            "4     -0.282387\n",
            "         ...   \n",
            "950    5.534322\n",
            "951    3.563903\n",
            "952    3.410648\n",
            "953    0.279870\n",
            "954    4.571006\n",
            "Name: Area, Length: 955, dtype: float64\n"
          ]
        }
      ],
      "source": []
    },
    {
      "cell_type": "markdown",
      "metadata": {
        "id": "bko7WI04eFyv"
      },
      "source": [
        "### 5. What is the min,max, mean and standard deviation of standard scaled data. Check these value for the scaled area column computed in the previous question"
      ]
    },
    {
      "cell_type": "code",
      "execution_count": null,
      "metadata": {
        "colab": {
          "base_uri": "https://localhost:8080/"
        },
        "id": "LomAWe7elBo1",
        "outputId": "166f4c24-6fa8-4985-f9cd-33f9d26205fe"
      },
      "outputs": [
        {
          "name": "stdout",
          "output_type": "stream",
          "text": [
            "Min -0.7008832606948393\n",
            "Max 6.692549220336025\n",
            "Mean 0.0\n",
            "Standard Deviation 0.9999999999999998\n"
          ]
        }
      ],
      "source": []
    },
    {
      "cell_type": "markdown",
      "metadata": {
        "id": "4I5Zed6PeFyx"
      },
      "source": [
        "### 6. Apply Standard Scaler to all the column of the data using sklearn function"
      ]
    },
    {
      "cell_type": "code",
      "execution_count": null,
      "metadata": {
        "id": "_Co7vSFkllst"
      },
      "outputs": [],
      "source": []
    },
    {
      "cell_type": "code",
      "execution_count": null,
      "metadata": {
        "colab": {
          "base_uri": "https://localhost:8080/",
          "height": 184
        },
        "id": "5zoefFlRmJoX",
        "outputId": "c757eb9f-55d2-483f-d403-caf295202fd3"
      },
      "outputs": [
        {
          "data": {
            "text/html": [
              "<div>\n",
              "<style scoped>\n",
              "    .dataframe tbody tr th:only-of-type {\n",
              "        vertical-align: middle;\n",
              "    }\n",
              "\n",
              "    .dataframe tbody tr th {\n",
              "        vertical-align: top;\n",
              "    }\n",
              "\n",
              "    .dataframe thead th {\n",
              "        text-align: right;\n",
              "    }\n",
              "</style>\n",
              "<table border=\"1\" class=\"dataframe\">\n",
              "  <thead>\n",
              "    <tr style=\"text-align: right;\">\n",
              "      <th></th>\n",
              "      <th>Area</th>\n",
              "      <th>diameter</th>\n",
              "      <th>perimeter</th>\n",
              "      <th>circularity</th>\n",
              "      <th>homogeneity</th>\n",
              "      <th>compactness</th>\n",
              "      <th>homogeneity.1</th>\n",
              "      <th>3d bounding box dim rate</th>\n",
              "      <th>compactness2</th>\n",
              "      <th>clbp mean</th>\n",
              "      <th>euler point</th>\n",
              "      <th>x-y projection compactness</th>\n",
              "      <th>min value inside</th>\n",
              "      <th>DC constant</th>\n",
              "      <th>energy</th>\n",
              "      <th>skew inside</th>\n",
              "      <th>kurtosis inside</th>\n",
              "      <th>moment 2</th>\n",
              "      <th>MIP</th>\n",
              "      <th>moment 5</th>\n",
              "      <th>moment 6</th>\n",
              "      <th>moment 7</th>\n",
              "      <th>x-y plane bb rate</th>\n",
              "    </tr>\n",
              "  </thead>\n",
              "  <tbody>\n",
              "    <tr>\n",
              "      <th>0</th>\n",
              "      <td>1.940275</td>\n",
              "      <td>0.305973</td>\n",
              "      <td>1.814168</td>\n",
              "      <td>1.439896</td>\n",
              "      <td>1.283316</td>\n",
              "      <td>0.717366</td>\n",
              "      <td>2.531346</td>\n",
              "      <td>2.437980</td>\n",
              "      <td>-0.328613</td>\n",
              "      <td>0.669601</td>\n",
              "      <td>0.704084</td>\n",
              "      <td>2.834068</td>\n",
              "      <td>2.650442</td>\n",
              "      <td>1.693333</td>\n",
              "      <td>6.102559</td>\n",
              "      <td>1.306236</td>\n",
              "      <td>2.704289</td>\n",
              "      <td>0.641564</td>\n",
              "      <td>1.230404</td>\n",
              "      <td>0.529485</td>\n",
              "      <td>0.028734</td>\n",
              "      <td>1.707474</td>\n",
              "      <td>2.629804</td>\n",
              "    </tr>\n",
              "    <tr>\n",
              "      <th>1</th>\n",
              "      <td>-0.256688</td>\n",
              "      <td>-0.634417</td>\n",
              "      <td>0.087777</td>\n",
              "      <td>0.770206</td>\n",
              "      <td>-0.555687</td>\n",
              "      <td>1.626776</td>\n",
              "      <td>2.017641</td>\n",
              "      <td>2.018747</td>\n",
              "      <td>-0.481967</td>\n",
              "      <td>-0.566894</td>\n",
              "      <td>1.521766</td>\n",
              "      <td>1.224631</td>\n",
              "      <td>2.658604</td>\n",
              "      <td>1.697731</td>\n",
              "      <td>2.410475</td>\n",
              "      <td>0.515643</td>\n",
              "      <td>-0.084037</td>\n",
              "      <td>1.587174</td>\n",
              "      <td>1.927730</td>\n",
              "      <td>1.892542</td>\n",
              "      <td>1.472820</td>\n",
              "      <td>-0.253664</td>\n",
              "      <td>2.612988</td>\n",
              "    </tr>\n",
              "  </tbody>\n",
              "</table>\n",
              "</div>"
            ],
            "text/plain": [
              "       Area  diameter  perimeter  ...  moment 6  moment 7  x-y plane bb rate\n",
              "0  1.940275  0.305973   1.814168  ...  0.028734  1.707474           2.629804\n",
              "1 -0.256688 -0.634417   0.087777  ...  1.472820 -0.253664           2.612988\n",
              "\n",
              "[2 rows x 23 columns]"
            ]
          },
          "execution_count": 12,
          "metadata": {},
          "output_type": "execute_result"
        }
      ],
      "source": []
    },
    {
      "cell_type": "markdown",
      "metadata": {
        "id": "s8iPEbIseFyx"
      },
      "source": [
        "### 7. Check whether all the scaled data mean and standard deviation is 0 and 1 respectively"
      ]
    },
    {
      "cell_type": "code",
      "execution_count": null,
      "metadata": {
        "colab": {
          "base_uri": "https://localhost:8080/"
        },
        "id": "vQa1XiCTmbkf",
        "outputId": "cdded89f-023f-4a85-e157-e7b683c6082d"
      },
      "outputs": [
        {
          "data": {
            "text/plain": [
              "Area                         -0.0\n",
              "diameter                     -0.0\n",
              "perimeter                    -0.0\n",
              "circularity                   0.0\n",
              "homogeneity                  -0.0\n",
              "compactness                   0.0\n",
              "homogeneity.1                -0.0\n",
              "3d bounding box dim rate      0.0\n",
              "compactness2                  0.0\n",
              "clbp mean                     0.0\n",
              "euler point                  -0.0\n",
              "x-y projection compactness    0.0\n",
              "min value inside              0.0\n",
              "DC constant                  -0.0\n",
              "energy                        0.0\n",
              "skew inside                  -0.0\n",
              "kurtosis inside               0.0\n",
              "moment 2                     -0.0\n",
              "MIP                          -0.0\n",
              "moment 5                     -0.0\n",
              "moment 6                     -0.0\n",
              "moment 7                      0.0\n",
              "x-y plane bb rate            -0.0\n",
              "dtype: float64"
            ]
          },
          "execution_count": 15,
          "metadata": {},
          "output_type": "execute_result"
        }
      ],
      "source": []
    },
    {
      "cell_type": "code",
      "execution_count": null,
      "metadata": {
        "colab": {
          "base_uri": "https://localhost:8080/"
        },
        "id": "T5fIyUNnmQLX",
        "outputId": "4b5ce475-c41a-4776-8d47-57258b8f8914"
      },
      "outputs": [
        {
          "data": {
            "text/plain": [
              "Area                          1.0\n",
              "diameter                      1.0\n",
              "perimeter                     1.0\n",
              "circularity                   1.0\n",
              "homogeneity                   1.0\n",
              "compactness                   1.0\n",
              "homogeneity.1                 1.0\n",
              "3d bounding box dim rate      1.0\n",
              "compactness2                  1.0\n",
              "clbp mean                     1.0\n",
              "euler point                   1.0\n",
              "x-y projection compactness    1.0\n",
              "min value inside              1.0\n",
              "DC constant                   1.0\n",
              "energy                        1.0\n",
              "skew inside                   1.0\n",
              "kurtosis inside               1.0\n",
              "moment 2                      1.0\n",
              "MIP                           1.0\n",
              "moment 5                      1.0\n",
              "moment 6                      1.0\n",
              "moment 7                      1.0\n",
              "x-y plane bb rate             1.0\n",
              "dtype: float64"
            ]
          },
          "execution_count": 16,
          "metadata": {},
          "output_type": "execute_result"
        }
      ],
      "source": []
    },
    {
      "cell_type": "markdown",
      "metadata": {
        "id": "300pjyIWeFyz"
      },
      "source": [
        "### 8.Inverse the scaled data to the original form"
      ]
    },
    {
      "cell_type": "code",
      "execution_count": null,
      "metadata": {
        "colab": {
          "base_uri": "https://localhost:8080/",
          "height": 184
        },
        "id": "pBCDEy4mmhvE",
        "outputId": "cf3e8e7b-ff33-45ef-9bc3-fa37b119b4f0"
      },
      "outputs": [
        {
          "data": {
            "text/html": [
              "<div>\n",
              "<style scoped>\n",
              "    .dataframe tbody tr th:only-of-type {\n",
              "        vertical-align: middle;\n",
              "    }\n",
              "\n",
              "    .dataframe tbody tr th {\n",
              "        vertical-align: top;\n",
              "    }\n",
              "\n",
              "    .dataframe thead th {\n",
              "        text-align: right;\n",
              "    }\n",
              "</style>\n",
              "<table border=\"1\" class=\"dataframe\">\n",
              "  <thead>\n",
              "    <tr style=\"text-align: right;\">\n",
              "      <th></th>\n",
              "      <th>Area</th>\n",
              "      <th>diameter</th>\n",
              "      <th>perimeter</th>\n",
              "      <th>circularity</th>\n",
              "      <th>homogeneity</th>\n",
              "      <th>compactness</th>\n",
              "      <th>homogeneity.1</th>\n",
              "      <th>3d bounding box dim rate</th>\n",
              "      <th>compactness2</th>\n",
              "      <th>clbp mean</th>\n",
              "      <th>euler point</th>\n",
              "      <th>x-y projection compactness</th>\n",
              "      <th>min value inside</th>\n",
              "      <th>DC constant</th>\n",
              "      <th>energy</th>\n",
              "      <th>skew inside</th>\n",
              "      <th>kurtosis inside</th>\n",
              "      <th>moment 2</th>\n",
              "      <th>MIP</th>\n",
              "      <th>moment 5</th>\n",
              "      <th>moment 6</th>\n",
              "      <th>moment 7</th>\n",
              "      <th>x-y plane bb rate</th>\n",
              "    </tr>\n",
              "  </thead>\n",
              "  <tbody>\n",
              "    <tr>\n",
              "      <th>0</th>\n",
              "      <td>61.8750</td>\n",
              "      <td>12.0</td>\n",
              "      <td>32.077140</td>\n",
              "      <td>0.755673</td>\n",
              "      <td>449.71875</td>\n",
              "      <td>1.345392</td>\n",
              "      <td>1.0</td>\n",
              "      <td>0.758333</td>\n",
              "      <td>2.339759</td>\n",
              "      <td>14.65</td>\n",
              "      <td>2.0</td>\n",
              "      <td>0.772116</td>\n",
              "      <td>19.746809</td>\n",
              "      <td>1.001611</td>\n",
              "      <td>10.149219</td>\n",
              "      <td>0.462735</td>\n",
              "      <td>3.076589</td>\n",
              "      <td>238.76445</td>\n",
              "      <td>276.318695</td>\n",
              "      <td>65971.18750</td>\n",
              "      <td>15752872.0</td>\n",
              "      <td>368197.28130</td>\n",
              "      <td>19.111872</td>\n",
              "    </tr>\n",
              "    <tr>\n",
              "      <th>1</th>\n",
              "      <td>14.0625</td>\n",
              "      <td>7.5</td>\n",
              "      <td>16.749615</td>\n",
              "      <td>0.629887</td>\n",
              "      <td>56.30625</td>\n",
              "      <td>1.615692</td>\n",
              "      <td>0.9</td>\n",
              "      <td>0.693333</td>\n",
              "      <td>2.105107</td>\n",
              "      <td>7.85</td>\n",
              "      <td>3.0</td>\n",
              "      <td>0.514698</td>\n",
              "      <td>19.778557</td>\n",
              "      <td>1.002350</td>\n",
              "      <td>5.401159</td>\n",
              "      <td>0.182834</td>\n",
              "      <td>1.547886</td>\n",
              "      <td>313.56543</td>\n",
              "      <td>318.816223</td>\n",
              "      <td>99969.98438</td>\n",
              "      <td>31347990.0</td>\n",
              "      <td>13273.56641</td>\n",
              "      <td>19.048378</td>\n",
              "    </tr>\n",
              "  </tbody>\n",
              "</table>\n",
              "</div>"
            ],
            "text/plain": [
              "      Area  diameter  perimeter  ...    moment 6      moment 7  x-y plane bb rate\n",
              "0  61.8750      12.0  32.077140  ...  15752872.0  368197.28130          19.111872\n",
              "1  14.0625       7.5  16.749615  ...  31347990.0   13273.56641          19.048378\n",
              "\n",
              "[2 rows x 23 columns]"
            ]
          },
          "execution_count": 18,
          "metadata": {},
          "output_type": "execute_result"
        }
      ],
      "source": []
    },
    {
      "cell_type": "markdown",
      "metadata": {
        "id": "wErXJRU_eFy0"
      },
      "source": [
        "### 9.Apply Min-max scaling to the original numeric data and print its max and minimum values for all the columns"
      ]
    },
    {
      "cell_type": "code",
      "execution_count": null,
      "metadata": {
        "colab": {
          "base_uri": "https://localhost:8080/",
          "height": 184
        },
        "id": "uXlCv5MsnSdR",
        "outputId": "98092a73-d0dc-4af9-8a6d-6b1ede9d9554"
      },
      "outputs": [
        {
          "data": {
            "text/html": [
              "<div>\n",
              "<style scoped>\n",
              "    .dataframe tbody tr th:only-of-type {\n",
              "        vertical-align: middle;\n",
              "    }\n",
              "\n",
              "    .dataframe tbody tr th {\n",
              "        vertical-align: top;\n",
              "    }\n",
              "\n",
              "    .dataframe thead th {\n",
              "        text-align: right;\n",
              "    }\n",
              "</style>\n",
              "<table border=\"1\" class=\"dataframe\">\n",
              "  <thead>\n",
              "    <tr style=\"text-align: right;\">\n",
              "      <th></th>\n",
              "      <th>Area</th>\n",
              "      <th>diameter</th>\n",
              "      <th>perimeter</th>\n",
              "      <th>circularity</th>\n",
              "      <th>homogeneity</th>\n",
              "      <th>compactness</th>\n",
              "      <th>homogeneity.1</th>\n",
              "      <th>3d bounding box dim rate</th>\n",
              "      <th>compactness2</th>\n",
              "      <th>clbp mean</th>\n",
              "      <th>euler point</th>\n",
              "      <th>x-y projection compactness</th>\n",
              "      <th>min value inside</th>\n",
              "      <th>DC constant</th>\n",
              "      <th>energy</th>\n",
              "      <th>skew inside</th>\n",
              "      <th>kurtosis inside</th>\n",
              "      <th>moment 2</th>\n",
              "      <th>MIP</th>\n",
              "      <th>moment 5</th>\n",
              "      <th>moment 6</th>\n",
              "      <th>moment 7</th>\n",
              "      <th>x-y plane bb rate</th>\n",
              "    </tr>\n",
              "  </thead>\n",
              "  <tbody>\n",
              "    <tr>\n",
              "      <th>0</th>\n",
              "      <td>0.357093</td>\n",
              "      <td>0.340021</td>\n",
              "      <td>0.419502</td>\n",
              "      <td>0.725792</td>\n",
              "      <td>0.226615</td>\n",
              "      <td>0.550961</td>\n",
              "      <td>1.000000</td>\n",
              "      <td>0.763753</td>\n",
              "      <td>0.210002</td>\n",
              "      <td>0.327372</td>\n",
              "      <td>0.545455</td>\n",
              "      <td>0.688153</td>\n",
              "      <td>0.606251</td>\n",
              "      <td>0.977068</td>\n",
              "      <td>1.000000</td>\n",
              "      <td>0.698834</td>\n",
              "      <td>0.683406</td>\n",
              "      <td>0.51166</td>\n",
              "      <td>0.634954</td>\n",
              "      <td>0.479095</td>\n",
              "      <td>0.279127</td>\n",
              "      <td>0.233187</td>\n",
              "      <td>0.635024</td>\n",
              "    </tr>\n",
              "    <tr>\n",
              "      <th>1</th>\n",
              "      <td>0.060098</td>\n",
              "      <td>0.181626</td>\n",
              "      <td>0.184346</td>\n",
              "      <td>0.591221</td>\n",
              "      <td>0.020532</td>\n",
              "      <td>0.720749</td>\n",
              "      <td>0.888393</td>\n",
              "      <td>0.688184</td>\n",
              "      <td>0.184940</td>\n",
              "      <td>0.150090</td>\n",
              "      <td>0.636364</td>\n",
              "      <td>0.432865</td>\n",
              "      <td>0.607397</td>\n",
              "      <td>0.978100</td>\n",
              "      <td>0.506805</td>\n",
              "      <td>0.573685</td>\n",
              "      <td>0.267713</td>\n",
              "      <td>0.69597</td>\n",
              "      <td>0.761435</td>\n",
              "      <td>0.769759</td>\n",
              "      <td>0.570101</td>\n",
              "      <td>0.007613</td>\n",
              "      <td>0.632536</td>\n",
              "    </tr>\n",
              "  </tbody>\n",
              "</table>\n",
              "</div>"
            ],
            "text/plain": [
              "       Area  diameter  perimeter  ...  moment 6  moment 7  x-y plane bb rate\n",
              "0  0.357093  0.340021   0.419502  ...  0.279127  0.233187           0.635024\n",
              "1  0.060098  0.181626   0.184346  ...  0.570101  0.007613           0.632536\n",
              "\n",
              "[2 rows x 23 columns]"
            ]
          },
          "execution_count": 19,
          "metadata": {},
          "output_type": "execute_result"
        }
      ],
      "source": []
    },
    {
      "cell_type": "code",
      "execution_count": null,
      "metadata": {
        "colab": {
          "base_uri": "https://localhost:8080/"
        },
        "id": "fLGF1TEvn_bL",
        "outputId": "ce2d85ed-9cc4-4c1d-a66f-cb19ccc7953b"
      },
      "outputs": [
        {
          "data": {
            "text/plain": [
              "Area                          0.0\n",
              "diameter                      0.0\n",
              "perimeter                     0.0\n",
              "circularity                   0.0\n",
              "homogeneity                   0.0\n",
              "compactness                   0.0\n",
              "homogeneity.1                 0.0\n",
              "3d bounding box dim rate      0.0\n",
              "compactness2                  0.0\n",
              "clbp mean                     0.0\n",
              "euler point                   0.0\n",
              "x-y projection compactness    0.0\n",
              "min value inside              0.0\n",
              "DC constant                   0.0\n",
              "energy                        0.0\n",
              "skew inside                   0.0\n",
              "kurtosis inside               0.0\n",
              "moment 2                      0.0\n",
              "MIP                           0.0\n",
              "moment 5                      0.0\n",
              "moment 6                      0.0\n",
              "moment 7                      0.0\n",
              "x-y plane bb rate             0.0\n",
              "dtype: float64"
            ]
          },
          "execution_count": 21,
          "metadata": {},
          "output_type": "execute_result"
        }
      ],
      "source": []
    },
    {
      "cell_type": "code",
      "execution_count": null,
      "metadata": {
        "colab": {
          "base_uri": "https://localhost:8080/"
        },
        "id": "4qxnvUxMoEOv",
        "outputId": "4ed94fec-5768-4ad8-87c8-14df86842f41"
      },
      "outputs": [
        {
          "data": {
            "text/plain": [
              "Area                          1.0\n",
              "diameter                      1.0\n",
              "perimeter                     1.0\n",
              "circularity                   1.0\n",
              "homogeneity                   1.0\n",
              "compactness                   1.0\n",
              "homogeneity.1                 1.0\n",
              "3d bounding box dim rate      1.0\n",
              "compactness2                  1.0\n",
              "clbp mean                     1.0\n",
              "euler point                   1.0\n",
              "x-y projection compactness    1.0\n",
              "min value inside              1.0\n",
              "DC constant                   1.0\n",
              "energy                        1.0\n",
              "skew inside                   1.0\n",
              "kurtosis inside               1.0\n",
              "moment 2                      1.0\n",
              "MIP                           1.0\n",
              "moment 5                      1.0\n",
              "moment 6                      1.0\n",
              "moment 7                      1.0\n",
              "x-y plane bb rate             1.0\n",
              "dtype: float64"
            ]
          },
          "execution_count": 22,
          "metadata": {},
          "output_type": "execute_result"
        }
      ],
      "source": []
    },
    {
      "cell_type": "markdown",
      "metadata": {
        "id": "OzHiHGPxeFy2"
      },
      "source": [
        "### 10. Apply Robust Scaler to scale the data"
      ]
    },
    {
      "cell_type": "code",
      "execution_count": null,
      "metadata": {
        "colab": {
          "base_uri": "https://localhost:8080/",
          "height": 184
        },
        "id": "7-xwmkfFnzn0",
        "outputId": "777f779c-b511-49b1-e90d-9eb9bec9d311"
      },
      "outputs": [
        {
          "data": {
            "text/html": [
              "<div>\n",
              "<style scoped>\n",
              "    .dataframe tbody tr th:only-of-type {\n",
              "        vertical-align: middle;\n",
              "    }\n",
              "\n",
              "    .dataframe tbody tr th {\n",
              "        vertical-align: top;\n",
              "    }\n",
              "\n",
              "    .dataframe thead th {\n",
              "        text-align: right;\n",
              "    }\n",
              "</style>\n",
              "<table border=\"1\" class=\"dataframe\">\n",
              "  <thead>\n",
              "    <tr style=\"text-align: right;\">\n",
              "      <th></th>\n",
              "      <th>Area</th>\n",
              "      <th>diameter</th>\n",
              "      <th>perimeter</th>\n",
              "      <th>circularity</th>\n",
              "      <th>homogeneity</th>\n",
              "      <th>compactness</th>\n",
              "      <th>homogeneity.1</th>\n",
              "      <th>3d bounding box dim rate</th>\n",
              "      <th>compactness2</th>\n",
              "      <th>clbp mean</th>\n",
              "      <th>euler point</th>\n",
              "      <th>x-y projection compactness</th>\n",
              "      <th>min value inside</th>\n",
              "      <th>DC constant</th>\n",
              "      <th>energy</th>\n",
              "      <th>skew inside</th>\n",
              "      <th>kurtosis inside</th>\n",
              "      <th>moment 2</th>\n",
              "      <th>MIP</th>\n",
              "      <th>moment 5</th>\n",
              "      <th>moment 6</th>\n",
              "      <th>moment 7</th>\n",
              "      <th>x-y plane bb rate</th>\n",
              "    </tr>\n",
              "  </thead>\n",
              "  <tbody>\n",
              "    <tr>\n",
              "      <th>0</th>\n",
              "      <td>5.008001</td>\n",
              "      <td>0.416049</td>\n",
              "      <td>2.259582</td>\n",
              "      <td>0.980681</td>\n",
              "      <td>2.609209</td>\n",
              "      <td>0.562497</td>\n",
              "      <td>1.706215</td>\n",
              "      <td>1.886212</td>\n",
              "      <td>-0.106281</td>\n",
              "      <td>0.670617</td>\n",
              "      <td>1.301341</td>\n",
              "      <td>2.75272</td>\n",
              "      <td>2.800246</td>\n",
              "      <td>1.320346</td>\n",
              "      <td>7.158378</td>\n",
              "      <td>1.073470</td>\n",
              "      <td>2.372627</td>\n",
              "      <td>0.504931</td>\n",
              "      <td>0.907926</td>\n",
              "      <td>0.421853</td>\n",
              "      <td>0.138351</td>\n",
              "      <td>22.316072</td>\n",
              "      <td>2.74225</td>\n",
              "    </tr>\n",
              "    <tr>\n",
              "      <th>1</th>\n",
              "      <td>0.150511</td>\n",
              "      <td>-0.299221</td>\n",
              "      <td>0.383373</td>\n",
              "      <td>0.540147</td>\n",
              "      <td>-0.422658</td>\n",
              "      <td>1.248071</td>\n",
              "      <td>1.362027</td>\n",
              "      <td>1.580743</td>\n",
              "      <td>-0.218941</td>\n",
              "      <td>-0.283798</td>\n",
              "      <td>2.430487</td>\n",
              "      <td>1.31084</td>\n",
              "      <td>2.808361</td>\n",
              "      <td>1.323584</td>\n",
              "      <td>3.009626</td>\n",
              "      <td>0.426552</td>\n",
              "      <td>0.026884</td>\n",
              "      <td>1.127144</td>\n",
              "      <td>1.405554</td>\n",
              "      <td>1.304627</td>\n",
              "      <td>1.017410</td>\n",
              "      <td>0.247895</td>\n",
              "      <td>2.72576</td>\n",
              "    </tr>\n",
              "  </tbody>\n",
              "</table>\n",
              "</div>"
            ],
            "text/plain": [
              "       Area  diameter  perimeter  ...  moment 6   moment 7  x-y plane bb rate\n",
              "0  5.008001  0.416049   2.259582  ...  0.138351  22.316072            2.74225\n",
              "1  0.150511 -0.299221   0.383373  ...  1.017410   0.247895            2.72576\n",
              "\n",
              "[2 rows x 23 columns]"
            ]
          },
          "execution_count": 20,
          "metadata": {},
          "output_type": "execute_result"
        }
      ],
      "source": []
    },
    {
      "cell_type": "markdown",
      "metadata": {
        "id": "DwHOzqkceFy2"
      },
      "source": [
        "### 11. Will scaling change the shape of the distribution ?\n",
        "// Need not consider Normalizer"
      ]
    }
  ],
  "metadata": {
    "colab": {
      "provenance": []
    },
    "kernelspec": {
      "display_name": "Python 3",
      "language": "python",
      "name": "python3"
    },
    "language_info": {
      "codemirror_mode": {
        "name": "ipython",
        "version": 3
      },
      "file_extension": ".py",
      "mimetype": "text/x-python",
      "name": "python",
      "nbconvert_exporter": "python",
      "pygments_lexer": "ipython3",
      "version": "3.6.13"
    }
  },
  "nbformat": 4,
  "nbformat_minor": 0
}
